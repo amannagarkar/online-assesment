{
  "nbformat": 4,
  "nbformat_minor": 0,
  "metadata": {
    "colab": {
      "name": "VeganBerries.ipynb",
      "provenance": [],
      "collapsed_sections": [],
      "mount_file_id": "1uuCkfcw6jSX8_zRfN6ISjNP6SHdPWwI3",
      "authorship_tag": "ABX9TyMpm012wyRK4kLyMOHcF6W2",
      "include_colab_link": true
    },
    "kernelspec": {
      "name": "python3",
      "display_name": "Python 3"
    },
    "language_info": {
      "name": "python"
    }
  },
  "cells": [
    {
      "cell_type": "markdown",
      "metadata": {
        "id": "view-in-github",
        "colab_type": "text"
      },
      "source": [
        "<a href=\"https://colab.research.google.com/github/amannagarkar/online-assesment/blob/main/VB.ipynb\" target=\"_parent\"><img src=\"https://colab.research.google.com/assets/colab-badge.svg\" alt=\"Open In Colab\"/></a>"
      ]
    },
    {
      "cell_type": "code",
      "execution_count": 1,
      "metadata": {
        "id": "0PYgQ1c-3kAv"
      },
      "outputs": [],
      "source": [
        "import pandas as pd\n",
        "import numpy as np\n",
        "import seaborn as sns\n",
        "import matplotlib.pyplot as plt\n",
        "\n",
        "from sklearn.metrics import confusion_matrix\n",
        "from sklearn.metrics import classification_report"
      ]
    },
    {
      "cell_type": "code",
      "source": [
        "data_path = \"/content/drive/MyDrive/Data/VeganBerries/VeganBerrie Orchard Data new.csv\""
      ],
      "metadata": {
        "id": "_I1Fg6VX4Qc8"
      },
      "execution_count": 2,
      "outputs": []
    },
    {
      "cell_type": "code",
      "source": [
        "data = pd.read_csv(data_path)"
      ],
      "metadata": {
        "id": "9yY2vv-o4sBN"
      },
      "execution_count": 3,
      "outputs": []
    },
    {
      "cell_type": "code",
      "source": [
        "data.head()"
      ],
      "metadata": {
        "colab": {
          "base_uri": "https://localhost:8080/",
          "height": 206
        },
        "id": "i5v8ssvS4wGd",
        "outputId": "39c1a505-94ab-4786-8e60-5f3ec1fd4474"
      },
      "execution_count": 4,
      "outputs": [
        {
          "output_type": "execute_result",
          "data": {
            "text/html": [
              "\n",
              "  <div id=\"df-57720d54-0c5f-4729-91e2-3f30fe07ebe8\">\n",
              "    <div class=\"colab-df-container\">\n",
              "      <div>\n",
              "<style scoped>\n",
              "    .dataframe tbody tr th:only-of-type {\n",
              "        vertical-align: middle;\n",
              "    }\n",
              "\n",
              "    .dataframe tbody tr th {\n",
              "        vertical-align: top;\n",
              "    }\n",
              "\n",
              "    .dataframe thead th {\n",
              "        text-align: right;\n",
              "    }\n",
              "</style>\n",
              "<table border=\"1\" class=\"dataframe\">\n",
              "  <thead>\n",
              "    <tr style=\"text-align: right;\">\n",
              "      <th></th>\n",
              "      <th>Week</th>\n",
              "      <th>Fertilizer added (cubic feet)</th>\n",
              "      <th>Fertilizer (cubic feet)</th>\n",
              "      <th>Mulch added \\n(inches)</th>\n",
              "      <th>Mulch \\n(inches)</th>\n",
              "      <th>Rain\\n(gallons)</th>\n",
              "      <th>Watering\\n(gallons)</th>\n",
              "      <th>Nutrition Lvl \\n%</th>\n",
              "      <th>Moisture \\n%</th>\n",
              "      <th>Sun/Temp\\nF</th>\n",
              "      <th>Weekly Yield \\n(lbs of berries)</th>\n",
              "      <th>Farm</th>\n",
              "    </tr>\n",
              "  </thead>\n",
              "  <tbody>\n",
              "    <tr>\n",
              "      <th>0</th>\n",
              "      <td>1</td>\n",
              "      <td>NaN</td>\n",
              "      <td>0.0</td>\n",
              "      <td>6.0</td>\n",
              "      <td>6.00</td>\n",
              "      <td>0.862823</td>\n",
              "      <td>10.0</td>\n",
              "      <td>75.0</td>\n",
              "      <td>75.000000</td>\n",
              "      <td>49.497071</td>\n",
              "      <td>43</td>\n",
              "      <td>Outgrowth Orchards</td>\n",
              "    </tr>\n",
              "    <tr>\n",
              "      <th>1</th>\n",
              "      <td>2</td>\n",
              "      <td>NaN</td>\n",
              "      <td>0.0</td>\n",
              "      <td>NaN</td>\n",
              "      <td>5.85</td>\n",
              "      <td>0.873548</td>\n",
              "      <td>NaN</td>\n",
              "      <td>78.7</td>\n",
              "      <td>77.500000</td>\n",
              "      <td>50.483414</td>\n",
              "      <td>45</td>\n",
              "      <td>Outgrowth Orchards</td>\n",
              "    </tr>\n",
              "    <tr>\n",
              "      <th>2</th>\n",
              "      <td>3</td>\n",
              "      <td>NaN</td>\n",
              "      <td>0.0</td>\n",
              "      <td>NaN</td>\n",
              "      <td>5.70</td>\n",
              "      <td>0.875294</td>\n",
              "      <td>10.0</td>\n",
              "      <td>82.2</td>\n",
              "      <td>77.190789</td>\n",
              "      <td>51.576157</td>\n",
              "      <td>41</td>\n",
              "      <td>Outgrowth Orchards</td>\n",
              "    </tr>\n",
              "    <tr>\n",
              "      <th>3</th>\n",
              "      <td>4</td>\n",
              "      <td>NaN</td>\n",
              "      <td>0.0</td>\n",
              "      <td>NaN</td>\n",
              "      <td>5.55</td>\n",
              "      <td>0.868907</td>\n",
              "      <td>NaN</td>\n",
              "      <td>86.1</td>\n",
              "      <td>79.316862</td>\n",
              "      <td>52.766426</td>\n",
              "      <td>51</td>\n",
              "      <td>Outgrowth Orchards</td>\n",
              "    </tr>\n",
              "    <tr>\n",
              "      <th>4</th>\n",
              "      <td>5</td>\n",
              "      <td>NaN</td>\n",
              "      <td>0.0</td>\n",
              "      <td>NaN</td>\n",
              "      <td>5.40</td>\n",
              "      <td>0.855209</td>\n",
              "      <td>10.0</td>\n",
              "      <td>89.0</td>\n",
              "      <td>78.874943</td>\n",
              "      <td>54.045350</td>\n",
              "      <td>57</td>\n",
              "      <td>Outgrowth Orchards</td>\n",
              "    </tr>\n",
              "  </tbody>\n",
              "</table>\n",
              "</div>\n",
              "      <button class=\"colab-df-convert\" onclick=\"convertToInteractive('df-57720d54-0c5f-4729-91e2-3f30fe07ebe8')\"\n",
              "              title=\"Convert this dataframe to an interactive table.\"\n",
              "              style=\"display:none;\">\n",
              "        \n",
              "  <svg xmlns=\"http://www.w3.org/2000/svg\" height=\"24px\"viewBox=\"0 0 24 24\"\n",
              "       width=\"24px\">\n",
              "    <path d=\"M0 0h24v24H0V0z\" fill=\"none\"/>\n",
              "    <path d=\"M18.56 5.44l.94 2.06.94-2.06 2.06-.94-2.06-.94-.94-2.06-.94 2.06-2.06.94zm-11 1L8.5 8.5l.94-2.06 2.06-.94-2.06-.94L8.5 2.5l-.94 2.06-2.06.94zm10 10l.94 2.06.94-2.06 2.06-.94-2.06-.94-.94-2.06-.94 2.06-2.06.94z\"/><path d=\"M17.41 7.96l-1.37-1.37c-.4-.4-.92-.59-1.43-.59-.52 0-1.04.2-1.43.59L10.3 9.45l-7.72 7.72c-.78.78-.78 2.05 0 2.83L4 21.41c.39.39.9.59 1.41.59.51 0 1.02-.2 1.41-.59l7.78-7.78 2.81-2.81c.8-.78.8-2.07 0-2.86zM5.41 20L4 18.59l7.72-7.72 1.47 1.35L5.41 20z\"/>\n",
              "  </svg>\n",
              "      </button>\n",
              "      \n",
              "  <style>\n",
              "    .colab-df-container {\n",
              "      display:flex;\n",
              "      flex-wrap:wrap;\n",
              "      gap: 12px;\n",
              "    }\n",
              "\n",
              "    .colab-df-convert {\n",
              "      background-color: #E8F0FE;\n",
              "      border: none;\n",
              "      border-radius: 50%;\n",
              "      cursor: pointer;\n",
              "      display: none;\n",
              "      fill: #1967D2;\n",
              "      height: 32px;\n",
              "      padding: 0 0 0 0;\n",
              "      width: 32px;\n",
              "    }\n",
              "\n",
              "    .colab-df-convert:hover {\n",
              "      background-color: #E2EBFA;\n",
              "      box-shadow: 0px 1px 2px rgba(60, 64, 67, 0.3), 0px 1px 3px 1px rgba(60, 64, 67, 0.15);\n",
              "      fill: #174EA6;\n",
              "    }\n",
              "\n",
              "    [theme=dark] .colab-df-convert {\n",
              "      background-color: #3B4455;\n",
              "      fill: #D2E3FC;\n",
              "    }\n",
              "\n",
              "    [theme=dark] .colab-df-convert:hover {\n",
              "      background-color: #434B5C;\n",
              "      box-shadow: 0px 1px 3px 1px rgba(0, 0, 0, 0.15);\n",
              "      filter: drop-shadow(0px 1px 2px rgba(0, 0, 0, 0.3));\n",
              "      fill: #FFFFFF;\n",
              "    }\n",
              "  </style>\n",
              "\n",
              "      <script>\n",
              "        const buttonEl =\n",
              "          document.querySelector('#df-57720d54-0c5f-4729-91e2-3f30fe07ebe8 button.colab-df-convert');\n",
              "        buttonEl.style.display =\n",
              "          google.colab.kernel.accessAllowed ? 'block' : 'none';\n",
              "\n",
              "        async function convertToInteractive(key) {\n",
              "          const element = document.querySelector('#df-57720d54-0c5f-4729-91e2-3f30fe07ebe8');\n",
              "          const dataTable =\n",
              "            await google.colab.kernel.invokeFunction('convertToInteractive',\n",
              "                                                     [key], {});\n",
              "          if (!dataTable) return;\n",
              "\n",
              "          const docLinkHtml = 'Like what you see? Visit the ' +\n",
              "            '<a target=\"_blank\" href=https://colab.research.google.com/notebooks/data_table.ipynb>data table notebook</a>'\n",
              "            + ' to learn more about interactive tables.';\n",
              "          element.innerHTML = '';\n",
              "          dataTable['output_type'] = 'display_data';\n",
              "          await google.colab.output.renderOutput(dataTable, element);\n",
              "          const docLink = document.createElement('div');\n",
              "          docLink.innerHTML = docLinkHtml;\n",
              "          element.appendChild(docLink);\n",
              "        }\n",
              "      </script>\n",
              "    </div>\n",
              "  </div>\n",
              "  "
            ],
            "text/plain": [
              "   Week  ...                Farm\n",
              "0     1  ...  Outgrowth Orchards\n",
              "1     2  ...  Outgrowth Orchards\n",
              "2     3  ...  Outgrowth Orchards\n",
              "3     4  ...  Outgrowth Orchards\n",
              "4     5  ...  Outgrowth Orchards\n",
              "\n",
              "[5 rows x 12 columns]"
            ]
          },
          "metadata": {},
          "execution_count": 4
        }
      ]
    },
    {
      "cell_type": "code",
      "source": [
        "data.columns"
      ],
      "metadata": {
        "colab": {
          "base_uri": "https://localhost:8080/"
        },
        "id": "Q5ZbrxkitNjv",
        "outputId": "d7fbcc71-945b-4973-942a-351a3c020319"
      },
      "execution_count": 5,
      "outputs": [
        {
          "output_type": "execute_result",
          "data": {
            "text/plain": [
              "Index(['Week', 'Fertilizer added (cubic feet)', 'Fertilizer (cubic feet)',\n",
              "       'Mulch added \\n(inches)', 'Mulch \\n(inches)', 'Rain\\n(gallons)',\n",
              "       'Watering\\n(gallons)', 'Nutrition Lvl \\n%', 'Moisture \\n%',\n",
              "       'Sun/Temp\\nF', 'Weekly Yield \\n(lbs of berries)', 'Farm'],\n",
              "      dtype='object')"
            ]
          },
          "metadata": {},
          "execution_count": 5
        }
      ]
    },
    {
      "cell_type": "code",
      "source": [
        "data.describe()"
      ],
      "metadata": {
        "colab": {
          "base_uri": "https://localhost:8080/",
          "height": 300
        },
        "id": "HYvRk7Nbsayr",
        "outputId": "5054f277-2f2d-4753-b115-7b1a8c6afb49"
      },
      "execution_count": 6,
      "outputs": [
        {
          "output_type": "execute_result",
          "data": {
            "text/html": [
              "\n",
              "  <div id=\"df-944eb247-7116-45c2-b916-a2ae866318b1\">\n",
              "    <div class=\"colab-df-container\">\n",
              "      <div>\n",
              "<style scoped>\n",
              "    .dataframe tbody tr th:only-of-type {\n",
              "        vertical-align: middle;\n",
              "    }\n",
              "\n",
              "    .dataframe tbody tr th {\n",
              "        vertical-align: top;\n",
              "    }\n",
              "\n",
              "    .dataframe thead th {\n",
              "        text-align: right;\n",
              "    }\n",
              "</style>\n",
              "<table border=\"1\" class=\"dataframe\">\n",
              "  <thead>\n",
              "    <tr style=\"text-align: right;\">\n",
              "      <th></th>\n",
              "      <th>Week</th>\n",
              "      <th>Fertilizer added (cubic feet)</th>\n",
              "      <th>Fertilizer (cubic feet)</th>\n",
              "      <th>Mulch added \\n(inches)</th>\n",
              "      <th>Mulch \\n(inches)</th>\n",
              "      <th>Rain\\n(gallons)</th>\n",
              "      <th>Watering\\n(gallons)</th>\n",
              "      <th>Nutrition Lvl \\n%</th>\n",
              "      <th>Moisture \\n%</th>\n",
              "      <th>Sun/Temp\\nF</th>\n",
              "      <th>Weekly Yield \\n(lbs of berries)</th>\n",
              "    </tr>\n",
              "  </thead>\n",
              "  <tbody>\n",
              "    <tr>\n",
              "      <th>count</th>\n",
              "      <td>468.000000</td>\n",
              "      <td>20.000000</td>\n",
              "      <td>468.000000</td>\n",
              "      <td>13.000000</td>\n",
              "      <td>468.000000</td>\n",
              "      <td>468.000000</td>\n",
              "      <td>247.000000</td>\n",
              "      <td>468.000000</td>\n",
              "      <td>468.000000</td>\n",
              "      <td>468.000000</td>\n",
              "      <td>468.000000</td>\n",
              "    </tr>\n",
              "    <tr>\n",
              "      <th>mean</th>\n",
              "      <td>26.500000</td>\n",
              "      <td>0.800000</td>\n",
              "      <td>0.218113</td>\n",
              "      <td>4.307692</td>\n",
              "      <td>2.317628</td>\n",
              "      <td>0.340185</td>\n",
              "      <td>17.510121</td>\n",
              "      <td>77.994444</td>\n",
              "      <td>76.393365</td>\n",
              "      <td>73.801120</td>\n",
              "      <td>65.564103</td>\n",
              "    </tr>\n",
              "    <tr>\n",
              "      <th>std</th>\n",
              "      <td>15.024391</td>\n",
              "      <td>0.251312</td>\n",
              "      <td>0.309506</td>\n",
              "      <td>1.797434</td>\n",
              "      <td>2.236107</td>\n",
              "      <td>0.335882</td>\n",
              "      <td>9.509030</td>\n",
              "      <td>15.358922</td>\n",
              "      <td>17.720364</td>\n",
              "      <td>13.008266</td>\n",
              "      <td>20.197477</td>\n",
              "    </tr>\n",
              "    <tr>\n",
              "      <th>min</th>\n",
              "      <td>1.000000</td>\n",
              "      <td>0.500000</td>\n",
              "      <td>0.000000</td>\n",
              "      <td>2.000000</td>\n",
              "      <td>0.000000</td>\n",
              "      <td>-0.059797</td>\n",
              "      <td>5.000000</td>\n",
              "      <td>44.061538</td>\n",
              "      <td>14.895479</td>\n",
              "      <td>49.497071</td>\n",
              "      <td>3.000000</td>\n",
              "    </tr>\n",
              "    <tr>\n",
              "      <th>25%</th>\n",
              "      <td>13.750000</td>\n",
              "      <td>0.500000</td>\n",
              "      <td>0.000000</td>\n",
              "      <td>4.000000</td>\n",
              "      <td>0.000000</td>\n",
              "      <td>0.062132</td>\n",
              "      <td>10.000000</td>\n",
              "      <td>65.850000</td>\n",
              "      <td>73.669925</td>\n",
              "      <td>62.677631</td>\n",
              "      <td>53.000000</td>\n",
              "    </tr>\n",
              "    <tr>\n",
              "      <th>50%</th>\n",
              "      <td>26.500000</td>\n",
              "      <td>1.000000</td>\n",
              "      <td>0.000000</td>\n",
              "      <td>4.000000</td>\n",
              "      <td>2.500000</td>\n",
              "      <td>0.242556</td>\n",
              "      <td>15.000000</td>\n",
              "      <td>77.538462</td>\n",
              "      <td>79.057979</td>\n",
              "      <td>76.165786</td>\n",
              "      <td>73.000000</td>\n",
              "    </tr>\n",
              "    <tr>\n",
              "      <th>75%</th>\n",
              "      <td>39.250000</td>\n",
              "      <td>1.000000</td>\n",
              "      <td>0.384615</td>\n",
              "      <td>6.000000</td>\n",
              "      <td>3.850000</td>\n",
              "      <td>0.576512</td>\n",
              "      <td>30.000000</td>\n",
              "      <td>90.744231</td>\n",
              "      <td>85.549845</td>\n",
              "      <td>85.953029</td>\n",
              "      <td>81.000000</td>\n",
              "    </tr>\n",
              "    <tr>\n",
              "      <th>max</th>\n",
              "      <td>52.000000</td>\n",
              "      <td>1.000000</td>\n",
              "      <td>1.076923</td>\n",
              "      <td>8.000000</td>\n",
              "      <td>9.000000</td>\n",
              "      <td>1.131372</td>\n",
              "      <td>30.000000</td>\n",
              "      <td>100.000000</td>\n",
              "      <td>115.939095</td>\n",
              "      <td>89.826042</td>\n",
              "      <td>100.000000</td>\n",
              "    </tr>\n",
              "  </tbody>\n",
              "</table>\n",
              "</div>\n",
              "      <button class=\"colab-df-convert\" onclick=\"convertToInteractive('df-944eb247-7116-45c2-b916-a2ae866318b1')\"\n",
              "              title=\"Convert this dataframe to an interactive table.\"\n",
              "              style=\"display:none;\">\n",
              "        \n",
              "  <svg xmlns=\"http://www.w3.org/2000/svg\" height=\"24px\"viewBox=\"0 0 24 24\"\n",
              "       width=\"24px\">\n",
              "    <path d=\"M0 0h24v24H0V0z\" fill=\"none\"/>\n",
              "    <path d=\"M18.56 5.44l.94 2.06.94-2.06 2.06-.94-2.06-.94-.94-2.06-.94 2.06-2.06.94zm-11 1L8.5 8.5l.94-2.06 2.06-.94-2.06-.94L8.5 2.5l-.94 2.06-2.06.94zm10 10l.94 2.06.94-2.06 2.06-.94-2.06-.94-.94-2.06-.94 2.06-2.06.94z\"/><path d=\"M17.41 7.96l-1.37-1.37c-.4-.4-.92-.59-1.43-.59-.52 0-1.04.2-1.43.59L10.3 9.45l-7.72 7.72c-.78.78-.78 2.05 0 2.83L4 21.41c.39.39.9.59 1.41.59.51 0 1.02-.2 1.41-.59l7.78-7.78 2.81-2.81c.8-.78.8-2.07 0-2.86zM5.41 20L4 18.59l7.72-7.72 1.47 1.35L5.41 20z\"/>\n",
              "  </svg>\n",
              "      </button>\n",
              "      \n",
              "  <style>\n",
              "    .colab-df-container {\n",
              "      display:flex;\n",
              "      flex-wrap:wrap;\n",
              "      gap: 12px;\n",
              "    }\n",
              "\n",
              "    .colab-df-convert {\n",
              "      background-color: #E8F0FE;\n",
              "      border: none;\n",
              "      border-radius: 50%;\n",
              "      cursor: pointer;\n",
              "      display: none;\n",
              "      fill: #1967D2;\n",
              "      height: 32px;\n",
              "      padding: 0 0 0 0;\n",
              "      width: 32px;\n",
              "    }\n",
              "\n",
              "    .colab-df-convert:hover {\n",
              "      background-color: #E2EBFA;\n",
              "      box-shadow: 0px 1px 2px rgba(60, 64, 67, 0.3), 0px 1px 3px 1px rgba(60, 64, 67, 0.15);\n",
              "      fill: #174EA6;\n",
              "    }\n",
              "\n",
              "    [theme=dark] .colab-df-convert {\n",
              "      background-color: #3B4455;\n",
              "      fill: #D2E3FC;\n",
              "    }\n",
              "\n",
              "    [theme=dark] .colab-df-convert:hover {\n",
              "      background-color: #434B5C;\n",
              "      box-shadow: 0px 1px 3px 1px rgba(0, 0, 0, 0.15);\n",
              "      filter: drop-shadow(0px 1px 2px rgba(0, 0, 0, 0.3));\n",
              "      fill: #FFFFFF;\n",
              "    }\n",
              "  </style>\n",
              "\n",
              "      <script>\n",
              "        const buttonEl =\n",
              "          document.querySelector('#df-944eb247-7116-45c2-b916-a2ae866318b1 button.colab-df-convert');\n",
              "        buttonEl.style.display =\n",
              "          google.colab.kernel.accessAllowed ? 'block' : 'none';\n",
              "\n",
              "        async function convertToInteractive(key) {\n",
              "          const element = document.querySelector('#df-944eb247-7116-45c2-b916-a2ae866318b1');\n",
              "          const dataTable =\n",
              "            await google.colab.kernel.invokeFunction('convertToInteractive',\n",
              "                                                     [key], {});\n",
              "          if (!dataTable) return;\n",
              "\n",
              "          const docLinkHtml = 'Like what you see? Visit the ' +\n",
              "            '<a target=\"_blank\" href=https://colab.research.google.com/notebooks/data_table.ipynb>data table notebook</a>'\n",
              "            + ' to learn more about interactive tables.';\n",
              "          element.innerHTML = '';\n",
              "          dataTable['output_type'] = 'display_data';\n",
              "          await google.colab.output.renderOutput(dataTable, element);\n",
              "          const docLink = document.createElement('div');\n",
              "          docLink.innerHTML = docLinkHtml;\n",
              "          element.appendChild(docLink);\n",
              "        }\n",
              "      </script>\n",
              "    </div>\n",
              "  </div>\n",
              "  "
            ],
            "text/plain": [
              "             Week  ...  Weekly Yield \\n(lbs of berries)\n",
              "count  468.000000  ...                       468.000000\n",
              "mean    26.500000  ...                        65.564103\n",
              "std     15.024391  ...                        20.197477\n",
              "min      1.000000  ...                         3.000000\n",
              "25%     13.750000  ...                        53.000000\n",
              "50%     26.500000  ...                        73.000000\n",
              "75%     39.250000  ...                        81.000000\n",
              "max     52.000000  ...                       100.000000\n",
              "\n",
              "[8 rows x 11 columns]"
            ]
          },
          "metadata": {},
          "execution_count": 6
        }
      ]
    },
    {
      "cell_type": "code",
      "source": [
        "data.info"
      ],
      "metadata": {
        "colab": {
          "base_uri": "https://localhost:8080/"
        },
        "id": "LsJGXX3Asv8z",
        "outputId": "4cef9cd8-0343-4ad7-feb4-d4edac989e18"
      },
      "execution_count": 7,
      "outputs": [
        {
          "output_type": "execute_result",
          "data": {
            "text/plain": [
              "<bound method DataFrame.info of      Week  ...                Farm\n",
              "0       1  ...  Outgrowth Orchards\n",
              "1       2  ...  Outgrowth Orchards\n",
              "2       3  ...  Outgrowth Orchards\n",
              "3       4  ...  Outgrowth Orchards\n",
              "4       5  ...  Outgrowth Orchards\n",
              "..    ...  ...                 ...\n",
              "463    48  ...   Easygoing Estates\n",
              "464    49  ...   Easygoing Estates\n",
              "465    50  ...   Easygoing Estates\n",
              "466    51  ...   Easygoing Estates\n",
              "467    52  ...   Easygoing Estates\n",
              "\n",
              "[468 rows x 12 columns]>"
            ]
          },
          "metadata": {},
          "execution_count": 7
        }
      ]
    },
    {
      "cell_type": "code",
      "source": [
        "data.isnull().sum()"
      ],
      "metadata": {
        "colab": {
          "base_uri": "https://localhost:8080/"
        },
        "id": "Pe7SnRXitr7N",
        "outputId": "b5e3130e-fd82-491a-beb9-fe9e4f3cacb2"
      },
      "execution_count": 8,
      "outputs": [
        {
          "output_type": "execute_result",
          "data": {
            "text/plain": [
              "Week                                 0\n",
              "Fertilizer added (cubic feet)      448\n",
              "Fertilizer (cubic feet)              0\n",
              "Mulch added \\n(inches)             455\n",
              "Mulch \\n(inches)                     0\n",
              "Rain\\n(gallons)                      0\n",
              "Watering\\n(gallons)                221\n",
              "Nutrition Lvl \\n%                    0\n",
              "Moisture \\n%                         0\n",
              "Sun/Temp\\nF                          0\n",
              "Weekly Yield \\n(lbs of berries)      0\n",
              "Farm                                 0\n",
              "dtype: int64"
            ]
          },
          "metadata": {},
          "execution_count": 8
        }
      ]
    },
    {
      "cell_type": "code",
      "source": [
        "data = data.rename(columns={'Fertilizer added (cubic feet)':'fertilizer added',\n",
        "                     'Fertilizer (cubic feet)':'fertilizer',\n",
        "                     'Mulch added':'mulch added',\n",
        "                     'Mulch added \\n(inches)':'mulch',\n",
        "                     'Rain\\n(gallons)':'rain',\n",
        "                     'Watering\\n(gallons)':'watering',\n",
        "                     'Nutrition Lvl \\n%':'nutrition level',\n",
        "                     'Moisture \\n%':'moisture',\n",
        "                     'Sun/Temp\\nF':'temprature',\n",
        "                     'Weekly Yield \\n(lbs of berries)':'weekly yeild',\n",
        "                     'Farm':'farm'})"
      ],
      "metadata": {
        "id": "VnNTZhUvqfSe"
      },
      "execution_count": 9,
      "outputs": []
    },
    {
      "cell_type": "code",
      "source": [
        "data['weekly yeild'].describe()"
      ],
      "metadata": {
        "colab": {
          "base_uri": "https://localhost:8080/"
        },
        "id": "Ft4XvDfruB6a",
        "outputId": "bc1cd460-5f2d-491b-d27c-4cbddccc9b1f"
      },
      "execution_count": 10,
      "outputs": [
        {
          "output_type": "execute_result",
          "data": {
            "text/plain": [
              "count    468.000000\n",
              "mean      65.564103\n",
              "std       20.197477\n",
              "min        3.000000\n",
              "25%       53.000000\n",
              "50%       73.000000\n",
              "75%       81.000000\n",
              "max      100.000000\n",
              "Name: weekly yeild, dtype: float64"
            ]
          },
          "metadata": {},
          "execution_count": 10
        }
      ]
    },
    {
      "cell_type": "code",
      "source": [
        "for i in range(len(data['Week'])):\n",
        "  if data['Week'][i]!=data['Week'][i]:\n",
        "    print(i)\n",
        "    break"
      ],
      "metadata": {
        "id": "TYPLWTU4BnUQ"
      },
      "execution_count": 11,
      "outputs": []
    },
    {
      "cell_type": "code",
      "source": [
        "data = data.drop(range(468,len(data)))"
      ],
      "metadata": {
        "id": "2G1Ve2iLf-P3"
      },
      "execution_count": 12,
      "outputs": []
    },
    {
      "cell_type": "code",
      "source": [
        "data['weekly yeild'].describe()"
      ],
      "metadata": {
        "colab": {
          "base_uri": "https://localhost:8080/"
        },
        "id": "MXv1r93CtdnB",
        "outputId": "a4367e4c-2d1f-4256-a4d6-7452afab4b30"
      },
      "execution_count": 13,
      "outputs": [
        {
          "output_type": "execute_result",
          "data": {
            "text/plain": [
              "count    468.000000\n",
              "mean      65.564103\n",
              "std       20.197477\n",
              "min        3.000000\n",
              "25%       53.000000\n",
              "50%       73.000000\n",
              "75%       81.000000\n",
              "max      100.000000\n",
              "Name: weekly yeild, dtype: float64"
            ]
          },
          "metadata": {},
          "execution_count": 13
        }
      ]
    },
    {
      "cell_type": "code",
      "source": [
        "data['weekly yeild'].value_counts()"
      ],
      "metadata": {
        "colab": {
          "base_uri": "https://localhost:8080/"
        },
        "id": "1lzEzRZVu_uf",
        "outputId": "b8303284-8ff1-4dca-d13d-94d7b8fd4657"
      },
      "execution_count": 14,
      "outputs": [
        {
          "output_type": "execute_result",
          "data": {
            "text/plain": [
              "83    22\n",
              "78    21\n",
              "76    16\n",
              "86    16\n",
              "79    16\n",
              "      ..\n",
              "36     1\n",
              "19     1\n",
              "26     1\n",
              "96     1\n",
              "3      1\n",
              "Name: weekly yeild, Length: 86, dtype: int64"
            ]
          },
          "metadata": {},
          "execution_count": 14
        }
      ]
    },
    {
      "cell_type": "code",
      "source": [
        "data = data.fillna(0)"
      ],
      "metadata": {
        "id": "l3Et0NBEoryU"
      },
      "execution_count": 15,
      "outputs": []
    },
    {
      "cell_type": "code",
      "source": [
        "data.columns"
      ],
      "metadata": {
        "colab": {
          "base_uri": "https://localhost:8080/"
        },
        "id": "L_0QBPtjzIai",
        "outputId": "4cdc1b1c-cd3d-4f09-ffd6-2a790ee6efba"
      },
      "execution_count": 16,
      "outputs": [
        {
          "output_type": "execute_result",
          "data": {
            "text/plain": [
              "Index(['Week', 'fertilizer added', 'fertilizer', 'mulch', 'Mulch \\n(inches)',\n",
              "       'rain', 'watering', 'nutrition level', 'moisture', 'temprature',\n",
              "       'weekly yeild', 'farm'],\n",
              "      dtype='object')"
            ]
          },
          "metadata": {},
          "execution_count": 16
        }
      ]
    },
    {
      "cell_type": "code",
      "source": [
        "data.farm.unique()"
      ],
      "metadata": {
        "colab": {
          "base_uri": "https://localhost:8080/"
        },
        "id": "n6unS9SZzVjl",
        "outputId": "be4f1ba3-5b3d-4aa0-8c11-9284a0ae7786"
      },
      "execution_count": 17,
      "outputs": [
        {
          "output_type": "execute_result",
          "data": {
            "text/plain": [
              "array(['Outgrowth Orchards', 'Organic Gardens', 'Frugal Farms',\n",
              "       'PowerHouse Plantation', 'Gargantian Grove', 'Berry Bonds',\n",
              "       'Friendly Farmstead', 'Nancys Nursery', 'Easygoing Estates'],\n",
              "      dtype=object)"
            ]
          },
          "metadata": {},
          "execution_count": 17
        }
      ]
    },
    {
      "cell_type": "code",
      "source": [
        "j = 1\n",
        "mapper = {}\n",
        "for i in data['farm']:\n",
        "  if i not in mapper:\n",
        "    mapper[i] = str(j)\n",
        "    j+=1\n",
        "\n",
        "mapper"
      ],
      "metadata": {
        "colab": {
          "base_uri": "https://localhost:8080/"
        },
        "id": "XCEb-UWlzdMH",
        "outputId": "3335d275-4527-4f25-9c8b-2d90a9c07c2d"
      },
      "execution_count": 18,
      "outputs": [
        {
          "output_type": "execute_result",
          "data": {
            "text/plain": [
              "{'Berry Bonds': '6',\n",
              " 'Easygoing Estates': '9',\n",
              " 'Friendly Farmstead': '7',\n",
              " 'Frugal Farms': '3',\n",
              " 'Gargantian Grove': '5',\n",
              " 'Nancys Nursery': '8',\n",
              " 'Organic Gardens': '2',\n",
              " 'Outgrowth Orchards': '1',\n",
              " 'PowerHouse Plantation': '4'}"
            ]
          },
          "metadata": {},
          "execution_count": 18
        }
      ]
    },
    {
      "cell_type": "code",
      "source": [
        "data.replace({'Outgrowth Orchards': 1, 'Organic Gardens': 2, 'Frugal Farms': 3, 'PowerHouse Plantation': 4, 'Gargantian Grove': 5, 'Berry Bonds': 6, 'Friendly Farmstead': 7, 'Nancys Nursery': 8, 'Easygoing Estates': 9})"
      ],
      "metadata": {
        "colab": {
          "base_uri": "https://localhost:8080/",
          "height": 423
        },
        "id": "M_x_HoAi01R8",
        "outputId": "835375ee-10fa-488d-85a5-c42068428368"
      },
      "execution_count": 19,
      "outputs": [
        {
          "output_type": "execute_result",
          "data": {
            "text/html": [
              "\n",
              "  <div id=\"df-9a9f43ea-cd54-4280-94bc-f9808799a7f8\">\n",
              "    <div class=\"colab-df-container\">\n",
              "      <div>\n",
              "<style scoped>\n",
              "    .dataframe tbody tr th:only-of-type {\n",
              "        vertical-align: middle;\n",
              "    }\n",
              "\n",
              "    .dataframe tbody tr th {\n",
              "        vertical-align: top;\n",
              "    }\n",
              "\n",
              "    .dataframe thead th {\n",
              "        text-align: right;\n",
              "    }\n",
              "</style>\n",
              "<table border=\"1\" class=\"dataframe\">\n",
              "  <thead>\n",
              "    <tr style=\"text-align: right;\">\n",
              "      <th></th>\n",
              "      <th>Week</th>\n",
              "      <th>fertilizer added</th>\n",
              "      <th>fertilizer</th>\n",
              "      <th>mulch</th>\n",
              "      <th>Mulch \\n(inches)</th>\n",
              "      <th>rain</th>\n",
              "      <th>watering</th>\n",
              "      <th>nutrition level</th>\n",
              "      <th>moisture</th>\n",
              "      <th>temprature</th>\n",
              "      <th>weekly yeild</th>\n",
              "      <th>farm</th>\n",
              "    </tr>\n",
              "  </thead>\n",
              "  <tbody>\n",
              "    <tr>\n",
              "      <th>0</th>\n",
              "      <td>1</td>\n",
              "      <td>0.0</td>\n",
              "      <td>0.0</td>\n",
              "      <td>6.0</td>\n",
              "      <td>6.00</td>\n",
              "      <td>0.862823</td>\n",
              "      <td>10.0</td>\n",
              "      <td>75.0</td>\n",
              "      <td>75.000000</td>\n",
              "      <td>49.497071</td>\n",
              "      <td>43</td>\n",
              "      <td>1</td>\n",
              "    </tr>\n",
              "    <tr>\n",
              "      <th>1</th>\n",
              "      <td>2</td>\n",
              "      <td>0.0</td>\n",
              "      <td>0.0</td>\n",
              "      <td>0.0</td>\n",
              "      <td>5.85</td>\n",
              "      <td>0.873548</td>\n",
              "      <td>0.0</td>\n",
              "      <td>78.7</td>\n",
              "      <td>77.500000</td>\n",
              "      <td>50.483414</td>\n",
              "      <td>45</td>\n",
              "      <td>1</td>\n",
              "    </tr>\n",
              "    <tr>\n",
              "      <th>2</th>\n",
              "      <td>3</td>\n",
              "      <td>0.0</td>\n",
              "      <td>0.0</td>\n",
              "      <td>0.0</td>\n",
              "      <td>5.70</td>\n",
              "      <td>0.875294</td>\n",
              "      <td>10.0</td>\n",
              "      <td>82.2</td>\n",
              "      <td>77.190789</td>\n",
              "      <td>51.576157</td>\n",
              "      <td>41</td>\n",
              "      <td>1</td>\n",
              "    </tr>\n",
              "    <tr>\n",
              "      <th>3</th>\n",
              "      <td>4</td>\n",
              "      <td>0.0</td>\n",
              "      <td>0.0</td>\n",
              "      <td>0.0</td>\n",
              "      <td>5.55</td>\n",
              "      <td>0.868907</td>\n",
              "      <td>0.0</td>\n",
              "      <td>86.1</td>\n",
              "      <td>79.316862</td>\n",
              "      <td>52.766426</td>\n",
              "      <td>51</td>\n",
              "      <td>1</td>\n",
              "    </tr>\n",
              "    <tr>\n",
              "      <th>4</th>\n",
              "      <td>5</td>\n",
              "      <td>0.0</td>\n",
              "      <td>0.0</td>\n",
              "      <td>0.0</td>\n",
              "      <td>5.40</td>\n",
              "      <td>0.855209</td>\n",
              "      <td>10.0</td>\n",
              "      <td>89.0</td>\n",
              "      <td>78.874943</td>\n",
              "      <td>54.045350</td>\n",
              "      <td>57</td>\n",
              "      <td>1</td>\n",
              "    </tr>\n",
              "    <tr>\n",
              "      <th>...</th>\n",
              "      <td>...</td>\n",
              "      <td>...</td>\n",
              "      <td>...</td>\n",
              "      <td>...</td>\n",
              "      <td>...</td>\n",
              "      <td>...</td>\n",
              "      <td>...</td>\n",
              "      <td>...</td>\n",
              "      <td>...</td>\n",
              "      <td>...</td>\n",
              "      <td>...</td>\n",
              "      <td>...</td>\n",
              "    </tr>\n",
              "    <tr>\n",
              "      <th>463</th>\n",
              "      <td>48</td>\n",
              "      <td>0.0</td>\n",
              "      <td>0.0</td>\n",
              "      <td>0.0</td>\n",
              "      <td>2.95</td>\n",
              "      <td>0.208348</td>\n",
              "      <td>0.0</td>\n",
              "      <td>100.0</td>\n",
              "      <td>19.620352</td>\n",
              "      <td>67.003715</td>\n",
              "      <td>17</td>\n",
              "      <td>9</td>\n",
              "    </tr>\n",
              "    <tr>\n",
              "      <th>464</th>\n",
              "      <td>49</td>\n",
              "      <td>0.0</td>\n",
              "      <td>0.0</td>\n",
              "      <td>0.0</td>\n",
              "      <td>2.80</td>\n",
              "      <td>0.278858</td>\n",
              "      <td>5.0</td>\n",
              "      <td>100.0</td>\n",
              "      <td>17.752623</td>\n",
              "      <td>63.399549</td>\n",
              "      <td>10</td>\n",
              "      <td>9</td>\n",
              "    </tr>\n",
              "    <tr>\n",
              "      <th>465</th>\n",
              "      <td>50</td>\n",
              "      <td>0.0</td>\n",
              "      <td>0.0</td>\n",
              "      <td>0.0</td>\n",
              "      <td>2.65</td>\n",
              "      <td>0.364701</td>\n",
              "      <td>0.0</td>\n",
              "      <td>100.0</td>\n",
              "      <td>17.164036</td>\n",
              "      <td>59.484770</td>\n",
              "      <td>9</td>\n",
              "      <td>9</td>\n",
              "    </tr>\n",
              "    <tr>\n",
              "      <th>466</th>\n",
              "      <td>51</td>\n",
              "      <td>0.0</td>\n",
              "      <td>0.0</td>\n",
              "      <td>0.0</td>\n",
              "      <td>2.50</td>\n",
              "      <td>0.467332</td>\n",
              "      <td>5.0</td>\n",
              "      <td>100.0</td>\n",
              "      <td>15.372058</td>\n",
              "      <td>55.250506</td>\n",
              "      <td>4</td>\n",
              "      <td>9</td>\n",
              "    </tr>\n",
              "    <tr>\n",
              "      <th>467</th>\n",
              "      <td>52</td>\n",
              "      <td>0.0</td>\n",
              "      <td>0.0</td>\n",
              "      <td>0.0</td>\n",
              "      <td>2.35</td>\n",
              "      <td>0.588264</td>\n",
              "      <td>0.0</td>\n",
              "      <td>100.0</td>\n",
              "      <td>14.895479</td>\n",
              "      <td>50.687884</td>\n",
              "      <td>3</td>\n",
              "      <td>9</td>\n",
              "    </tr>\n",
              "  </tbody>\n",
              "</table>\n",
              "<p>468 rows × 12 columns</p>\n",
              "</div>\n",
              "      <button class=\"colab-df-convert\" onclick=\"convertToInteractive('df-9a9f43ea-cd54-4280-94bc-f9808799a7f8')\"\n",
              "              title=\"Convert this dataframe to an interactive table.\"\n",
              "              style=\"display:none;\">\n",
              "        \n",
              "  <svg xmlns=\"http://www.w3.org/2000/svg\" height=\"24px\"viewBox=\"0 0 24 24\"\n",
              "       width=\"24px\">\n",
              "    <path d=\"M0 0h24v24H0V0z\" fill=\"none\"/>\n",
              "    <path d=\"M18.56 5.44l.94 2.06.94-2.06 2.06-.94-2.06-.94-.94-2.06-.94 2.06-2.06.94zm-11 1L8.5 8.5l.94-2.06 2.06-.94-2.06-.94L8.5 2.5l-.94 2.06-2.06.94zm10 10l.94 2.06.94-2.06 2.06-.94-2.06-.94-.94-2.06-.94 2.06-2.06.94z\"/><path d=\"M17.41 7.96l-1.37-1.37c-.4-.4-.92-.59-1.43-.59-.52 0-1.04.2-1.43.59L10.3 9.45l-7.72 7.72c-.78.78-.78 2.05 0 2.83L4 21.41c.39.39.9.59 1.41.59.51 0 1.02-.2 1.41-.59l7.78-7.78 2.81-2.81c.8-.78.8-2.07 0-2.86zM5.41 20L4 18.59l7.72-7.72 1.47 1.35L5.41 20z\"/>\n",
              "  </svg>\n",
              "      </button>\n",
              "      \n",
              "  <style>\n",
              "    .colab-df-container {\n",
              "      display:flex;\n",
              "      flex-wrap:wrap;\n",
              "      gap: 12px;\n",
              "    }\n",
              "\n",
              "    .colab-df-convert {\n",
              "      background-color: #E8F0FE;\n",
              "      border: none;\n",
              "      border-radius: 50%;\n",
              "      cursor: pointer;\n",
              "      display: none;\n",
              "      fill: #1967D2;\n",
              "      height: 32px;\n",
              "      padding: 0 0 0 0;\n",
              "      width: 32px;\n",
              "    }\n",
              "\n",
              "    .colab-df-convert:hover {\n",
              "      background-color: #E2EBFA;\n",
              "      box-shadow: 0px 1px 2px rgba(60, 64, 67, 0.3), 0px 1px 3px 1px rgba(60, 64, 67, 0.15);\n",
              "      fill: #174EA6;\n",
              "    }\n",
              "\n",
              "    [theme=dark] .colab-df-convert {\n",
              "      background-color: #3B4455;\n",
              "      fill: #D2E3FC;\n",
              "    }\n",
              "\n",
              "    [theme=dark] .colab-df-convert:hover {\n",
              "      background-color: #434B5C;\n",
              "      box-shadow: 0px 1px 3px 1px rgba(0, 0, 0, 0.15);\n",
              "      filter: drop-shadow(0px 1px 2px rgba(0, 0, 0, 0.3));\n",
              "      fill: #FFFFFF;\n",
              "    }\n",
              "  </style>\n",
              "\n",
              "      <script>\n",
              "        const buttonEl =\n",
              "          document.querySelector('#df-9a9f43ea-cd54-4280-94bc-f9808799a7f8 button.colab-df-convert');\n",
              "        buttonEl.style.display =\n",
              "          google.colab.kernel.accessAllowed ? 'block' : 'none';\n",
              "\n",
              "        async function convertToInteractive(key) {\n",
              "          const element = document.querySelector('#df-9a9f43ea-cd54-4280-94bc-f9808799a7f8');\n",
              "          const dataTable =\n",
              "            await google.colab.kernel.invokeFunction('convertToInteractive',\n",
              "                                                     [key], {});\n",
              "          if (!dataTable) return;\n",
              "\n",
              "          const docLinkHtml = 'Like what you see? Visit the ' +\n",
              "            '<a target=\"_blank\" href=https://colab.research.google.com/notebooks/data_table.ipynb>data table notebook</a>'\n",
              "            + ' to learn more about interactive tables.';\n",
              "          element.innerHTML = '';\n",
              "          dataTable['output_type'] = 'display_data';\n",
              "          await google.colab.output.renderOutput(dataTable, element);\n",
              "          const docLink = document.createElement('div');\n",
              "          docLink.innerHTML = docLinkHtml;\n",
              "          element.appendChild(docLink);\n",
              "        }\n",
              "      </script>\n",
              "    </div>\n",
              "  </div>\n",
              "  "
            ],
            "text/plain": [
              "     Week  fertilizer added  fertilizer  ...  temprature  weekly yeild  farm\n",
              "0       1               0.0         0.0  ...   49.497071            43     1\n",
              "1       2               0.0         0.0  ...   50.483414            45     1\n",
              "2       3               0.0         0.0  ...   51.576157            41     1\n",
              "3       4               0.0         0.0  ...   52.766426            51     1\n",
              "4       5               0.0         0.0  ...   54.045350            57     1\n",
              "..    ...               ...         ...  ...         ...           ...   ...\n",
              "463    48               0.0         0.0  ...   67.003715            17     9\n",
              "464    49               0.0         0.0  ...   63.399549            10     9\n",
              "465    50               0.0         0.0  ...   59.484770             9     9\n",
              "466    51               0.0         0.0  ...   55.250506             4     9\n",
              "467    52               0.0         0.0  ...   50.687884             3     9\n",
              "\n",
              "[468 rows x 12 columns]"
            ]
          },
          "metadata": {},
          "execution_count": 19
        }
      ]
    },
    {
      "cell_type": "code",
      "source": [
        "data.head()"
      ],
      "metadata": {
        "colab": {
          "base_uri": "https://localhost:8080/",
          "height": 206
        },
        "id": "ppBKeIiKk-VR",
        "outputId": "4a64252c-bce7-435a-ec12-7928dc3f6e4a"
      },
      "execution_count": 20,
      "outputs": [
        {
          "output_type": "execute_result",
          "data": {
            "text/html": [
              "\n",
              "  <div id=\"df-e42d553f-a889-4599-991d-d30c2cb0d6a9\">\n",
              "    <div class=\"colab-df-container\">\n",
              "      <div>\n",
              "<style scoped>\n",
              "    .dataframe tbody tr th:only-of-type {\n",
              "        vertical-align: middle;\n",
              "    }\n",
              "\n",
              "    .dataframe tbody tr th {\n",
              "        vertical-align: top;\n",
              "    }\n",
              "\n",
              "    .dataframe thead th {\n",
              "        text-align: right;\n",
              "    }\n",
              "</style>\n",
              "<table border=\"1\" class=\"dataframe\">\n",
              "  <thead>\n",
              "    <tr style=\"text-align: right;\">\n",
              "      <th></th>\n",
              "      <th>Week</th>\n",
              "      <th>fertilizer added</th>\n",
              "      <th>fertilizer</th>\n",
              "      <th>mulch</th>\n",
              "      <th>Mulch \\n(inches)</th>\n",
              "      <th>rain</th>\n",
              "      <th>watering</th>\n",
              "      <th>nutrition level</th>\n",
              "      <th>moisture</th>\n",
              "      <th>temprature</th>\n",
              "      <th>weekly yeild</th>\n",
              "      <th>farm</th>\n",
              "    </tr>\n",
              "  </thead>\n",
              "  <tbody>\n",
              "    <tr>\n",
              "      <th>0</th>\n",
              "      <td>1</td>\n",
              "      <td>0.0</td>\n",
              "      <td>0.0</td>\n",
              "      <td>6.0</td>\n",
              "      <td>6.00</td>\n",
              "      <td>0.862823</td>\n",
              "      <td>10.0</td>\n",
              "      <td>75.0</td>\n",
              "      <td>75.000000</td>\n",
              "      <td>49.497071</td>\n",
              "      <td>43</td>\n",
              "      <td>Outgrowth Orchards</td>\n",
              "    </tr>\n",
              "    <tr>\n",
              "      <th>1</th>\n",
              "      <td>2</td>\n",
              "      <td>0.0</td>\n",
              "      <td>0.0</td>\n",
              "      <td>0.0</td>\n",
              "      <td>5.85</td>\n",
              "      <td>0.873548</td>\n",
              "      <td>0.0</td>\n",
              "      <td>78.7</td>\n",
              "      <td>77.500000</td>\n",
              "      <td>50.483414</td>\n",
              "      <td>45</td>\n",
              "      <td>Outgrowth Orchards</td>\n",
              "    </tr>\n",
              "    <tr>\n",
              "      <th>2</th>\n",
              "      <td>3</td>\n",
              "      <td>0.0</td>\n",
              "      <td>0.0</td>\n",
              "      <td>0.0</td>\n",
              "      <td>5.70</td>\n",
              "      <td>0.875294</td>\n",
              "      <td>10.0</td>\n",
              "      <td>82.2</td>\n",
              "      <td>77.190789</td>\n",
              "      <td>51.576157</td>\n",
              "      <td>41</td>\n",
              "      <td>Outgrowth Orchards</td>\n",
              "    </tr>\n",
              "    <tr>\n",
              "      <th>3</th>\n",
              "      <td>4</td>\n",
              "      <td>0.0</td>\n",
              "      <td>0.0</td>\n",
              "      <td>0.0</td>\n",
              "      <td>5.55</td>\n",
              "      <td>0.868907</td>\n",
              "      <td>0.0</td>\n",
              "      <td>86.1</td>\n",
              "      <td>79.316862</td>\n",
              "      <td>52.766426</td>\n",
              "      <td>51</td>\n",
              "      <td>Outgrowth Orchards</td>\n",
              "    </tr>\n",
              "    <tr>\n",
              "      <th>4</th>\n",
              "      <td>5</td>\n",
              "      <td>0.0</td>\n",
              "      <td>0.0</td>\n",
              "      <td>0.0</td>\n",
              "      <td>5.40</td>\n",
              "      <td>0.855209</td>\n",
              "      <td>10.0</td>\n",
              "      <td>89.0</td>\n",
              "      <td>78.874943</td>\n",
              "      <td>54.045350</td>\n",
              "      <td>57</td>\n",
              "      <td>Outgrowth Orchards</td>\n",
              "    </tr>\n",
              "  </tbody>\n",
              "</table>\n",
              "</div>\n",
              "      <button class=\"colab-df-convert\" onclick=\"convertToInteractive('df-e42d553f-a889-4599-991d-d30c2cb0d6a9')\"\n",
              "              title=\"Convert this dataframe to an interactive table.\"\n",
              "              style=\"display:none;\">\n",
              "        \n",
              "  <svg xmlns=\"http://www.w3.org/2000/svg\" height=\"24px\"viewBox=\"0 0 24 24\"\n",
              "       width=\"24px\">\n",
              "    <path d=\"M0 0h24v24H0V0z\" fill=\"none\"/>\n",
              "    <path d=\"M18.56 5.44l.94 2.06.94-2.06 2.06-.94-2.06-.94-.94-2.06-.94 2.06-2.06.94zm-11 1L8.5 8.5l.94-2.06 2.06-.94-2.06-.94L8.5 2.5l-.94 2.06-2.06.94zm10 10l.94 2.06.94-2.06 2.06-.94-2.06-.94-.94-2.06-.94 2.06-2.06.94z\"/><path d=\"M17.41 7.96l-1.37-1.37c-.4-.4-.92-.59-1.43-.59-.52 0-1.04.2-1.43.59L10.3 9.45l-7.72 7.72c-.78.78-.78 2.05 0 2.83L4 21.41c.39.39.9.59 1.41.59.51 0 1.02-.2 1.41-.59l7.78-7.78 2.81-2.81c.8-.78.8-2.07 0-2.86zM5.41 20L4 18.59l7.72-7.72 1.47 1.35L5.41 20z\"/>\n",
              "  </svg>\n",
              "      </button>\n",
              "      \n",
              "  <style>\n",
              "    .colab-df-container {\n",
              "      display:flex;\n",
              "      flex-wrap:wrap;\n",
              "      gap: 12px;\n",
              "    }\n",
              "\n",
              "    .colab-df-convert {\n",
              "      background-color: #E8F0FE;\n",
              "      border: none;\n",
              "      border-radius: 50%;\n",
              "      cursor: pointer;\n",
              "      display: none;\n",
              "      fill: #1967D2;\n",
              "      height: 32px;\n",
              "      padding: 0 0 0 0;\n",
              "      width: 32px;\n",
              "    }\n",
              "\n",
              "    .colab-df-convert:hover {\n",
              "      background-color: #E2EBFA;\n",
              "      box-shadow: 0px 1px 2px rgba(60, 64, 67, 0.3), 0px 1px 3px 1px rgba(60, 64, 67, 0.15);\n",
              "      fill: #174EA6;\n",
              "    }\n",
              "\n",
              "    [theme=dark] .colab-df-convert {\n",
              "      background-color: #3B4455;\n",
              "      fill: #D2E3FC;\n",
              "    }\n",
              "\n",
              "    [theme=dark] .colab-df-convert:hover {\n",
              "      background-color: #434B5C;\n",
              "      box-shadow: 0px 1px 3px 1px rgba(0, 0, 0, 0.15);\n",
              "      filter: drop-shadow(0px 1px 2px rgba(0, 0, 0, 0.3));\n",
              "      fill: #FFFFFF;\n",
              "    }\n",
              "  </style>\n",
              "\n",
              "      <script>\n",
              "        const buttonEl =\n",
              "          document.querySelector('#df-e42d553f-a889-4599-991d-d30c2cb0d6a9 button.colab-df-convert');\n",
              "        buttonEl.style.display =\n",
              "          google.colab.kernel.accessAllowed ? 'block' : 'none';\n",
              "\n",
              "        async function convertToInteractive(key) {\n",
              "          const element = document.querySelector('#df-e42d553f-a889-4599-991d-d30c2cb0d6a9');\n",
              "          const dataTable =\n",
              "            await google.colab.kernel.invokeFunction('convertToInteractive',\n",
              "                                                     [key], {});\n",
              "          if (!dataTable) return;\n",
              "\n",
              "          const docLinkHtml = 'Like what you see? Visit the ' +\n",
              "            '<a target=\"_blank\" href=https://colab.research.google.com/notebooks/data_table.ipynb>data table notebook</a>'\n",
              "            + ' to learn more about interactive tables.';\n",
              "          element.innerHTML = '';\n",
              "          dataTable['output_type'] = 'display_data';\n",
              "          await google.colab.output.renderOutput(dataTable, element);\n",
              "          const docLink = document.createElement('div');\n",
              "          docLink.innerHTML = docLinkHtml;\n",
              "          element.appendChild(docLink);\n",
              "        }\n",
              "      </script>\n",
              "    </div>\n",
              "  </div>\n",
              "  "
            ],
            "text/plain": [
              "   Week  fertilizer added  ...  weekly yeild                farm\n",
              "0     1               0.0  ...            43  Outgrowth Orchards\n",
              "1     2               0.0  ...            45  Outgrowth Orchards\n",
              "2     3               0.0  ...            41  Outgrowth Orchards\n",
              "3     4               0.0  ...            51  Outgrowth Orchards\n",
              "4     5               0.0  ...            57  Outgrowth Orchards\n",
              "\n",
              "[5 rows x 12 columns]"
            ]
          },
          "metadata": {},
          "execution_count": 20
        }
      ]
    },
    {
      "cell_type": "code",
      "source": [
        "data.set_index('Week', inplace=True)"
      ],
      "metadata": {
        "id": "cSPSTPw9mSWz"
      },
      "execution_count": 21,
      "outputs": []
    },
    {
      "cell_type": "code",
      "source": [
        "farms = data.groupby(by = 'farm')\n",
        "\n",
        "fig, ax = plt.subplots()\n",
        "for i in farms.groups:\n",
        "  x1 = []\n",
        "  for j,row in farms.get_group(i).iterrows():\n",
        "    j \n",
        "    x1.append(row['fertilizer'])\n",
        "    x2 = row['weekly yeild']\n",
        "    x3 = row['watering']\n",
        "    ax.plot(x1,j)\n",
        "plt.show()"
      ],
      "metadata": {
        "id": "d8ItS_WnvnhM"
      },
      "execution_count": null,
      "outputs": []
    },
    {
      "cell_type": "markdown",
      "source": [
        "###  Which farms are going to fail the fastest?"
      ],
      "metadata": {
        "id": "pzvLpkQPuyNs"
      }
    },
    {
      "cell_type": "code",
      "source": [
        "data.groupby(by = 'farm')['weekly yeild'].plot(figsize = (16,8), legend = True)"
      ],
      "metadata": {
        "id": "QOz6bradvMuy",
        "colab": {
          "base_uri": "https://localhost:8080/",
          "height": 700
        },
        "outputId": "23454572-9653-4b69-cdc5-bf7cbad2dd8c"
      },
      "execution_count": 142,
      "outputs": [
        {
          "output_type": "execute_result",
          "data": {
            "text/plain": [
              "farm\n",
              "Berry Bonds              AxesSubplot(0.125,0.125;0.775x0.755)\n",
              "Easygoing Estates        AxesSubplot(0.125,0.125;0.775x0.755)\n",
              "Friendly Farmstead       AxesSubplot(0.125,0.125;0.775x0.755)\n",
              "Frugal Farms             AxesSubplot(0.125,0.125;0.775x0.755)\n",
              "Gargantian Grove         AxesSubplot(0.125,0.125;0.775x0.755)\n",
              "Nancys Nursery           AxesSubplot(0.125,0.125;0.775x0.755)\n",
              "Organic Gardens          AxesSubplot(0.125,0.125;0.775x0.755)\n",
              "Outgrowth Orchards       AxesSubplot(0.125,0.125;0.775x0.755)\n",
              "PowerHouse Plantation    AxesSubplot(0.125,0.125;0.775x0.755)\n",
              "Name: weekly yeild, dtype: object"
            ]
          },
          "metadata": {},
          "execution_count": 142
        },
        {
          "output_type": "display_data",
          "data": {
            "image/png": "[encoded data removed]",
            "text/plain": [
              "<Figure size 1152x576 with 1 Axes>"
            ]
          },
          "metadata": {
            "needs_background": "light"
          }
        }
      ]
    },
    {
      "cell_type": "code",
      "source": [
        "corr = data.corr()\n",
        "fig, ax = plt.subplots(figsize=(8,8))\n",
        "colormap = sns.diverging_palette(220,10,as_cmap=True)\n",
        "dropSelf = np.zeros_like(corr)\n",
        "dropSelf[np.triu_indices_from(dropSelf)]=True\n",
        "colormap = sns.diverging_palette(220,10,as_cmap=True)\n",
        "sns.heatmap(corr,cmap=colormap,linewidth=.5,annot=True,fmt=\".2f\",mask=dropSelf)\n",
        "plt.show()"
      ],
      "metadata": {
        "id": "X3tgjuRl3UIa"
      },
      "execution_count": 61,
      "outputs": []
    }
  ]
}